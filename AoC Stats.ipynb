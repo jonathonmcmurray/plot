{
 "cells": [
  {
   "cell_type": "code",
   "execution_count": 1,
   "metadata": {},
   "outputs": [],
   "source": [
    ".utl.require\"req\"\n",
    ".utl.require\"plot\""
   ]
  },
  {
   "cell_type": "code",
   "execution_count": 2,
   "metadata": {},
   "outputs": [],
   "source": [
    "filt:{y@where x@'y}                                           //filter to where lambda returns true\n",
    "nnul:filt[{not null x}]                                       //filter out nulls\n",
    "ints:{nnul a:\"J\"$inter[;.Q.n]'[(where not x in .Q.n)cut x]}   //extract the integers from a string"
   ]
  },
  {
   "cell_type": "code",
   "execution_count": 3,
   "metadata": {
    "scrolled": false
   },
   "outputs": [],
   "source": [
    ".aoc.stats:{\n",
    "  r:.req.g\"http://adventofcode.com/\",string[x],\"/stats\";\n",
    "  t:flip`day`gold`silver!flip -3#'ints each 2_-2_\"\\n\"vs first[ss[r;\"<main>\"]]_first[ss[r;\"</main>\"]]#r;\n",
    "  plot`plot`x`y`xlabel`ylabel`title`grid!(`line;t`day;t`gold;\"Day\";\"Gold stars\";\"Gold Stars AoC \",string x;1b)\n",
    " }"
   ]
  },
  {
   "cell_type": "code",
   "execution_count": 4,
   "metadata": {},
   "outputs": [
    {
     "data": {
      "text/plain": [
       "{[s;x]\n",
       "  if[99h<>type x;'`type];                                             ..[`plo..\n"
      ]
     },
     "execution_count": 4,
     "metadata": {},
     "output_type": "execute_result"
    }
   ],
   "source": [
    ".aoc.stats 2018"
   ]
  },
  {
   "cell_type": "code",
   "execution_count": 5,
   "metadata": {},
   "outputs": [
    {
     "data": {
      "text/plain": [
       "{[s;x]\n",
       "  if[99h<>type x;'`type];                                             ..[`plo..\n"
      ]
     },
     "execution_count": 5,
     "metadata": {},
     "output_type": "execute_result"
    }
   ],
   "source": [
    ".aoc.stats 2017"
   ]
  },
  {
   "cell_type": "code",
   "execution_count": 6,
   "metadata": {},
   "outputs": [
    {
     "data": {
      "text/plain": [
       "{[s;x]\n",
       "  if[99h<>type x;'`type];                                             ..[`plo..\n"
      ]
     },
     "execution_count": 6,
     "metadata": {},
     "output_type": "execute_result"
    }
   ],
   "source": [
    ".aoc.stats 2016"
   ]
  },
  {
   "cell_type": "code",
   "execution_count": 7,
   "metadata": {},
   "outputs": [
    {
     "data": {
      "text/plain": [
       "{[s;x]\n",
       "  if[99h<>type x;'`type];                                             ..[`plo..\n"
      ]
     },
     "execution_count": 7,
     "metadata": {},
     "output_type": "execute_result"
    }
   ],
   "source": [
    ".aoc.stats 2015"
   ]
  }
 ],
 "metadata": {
  "kernelspec": {
   "display_name": "Q (kdb+)",
   "language": "q",
   "name": "qpk"
  },
  "language_info": {
   "file_extension": ".q",
   "mimetype": "text/x-q",
   "name": "q",
   "version": "3.6.0"
  }
 },
 "nbformat": 4,
 "nbformat_minor": 2
}
